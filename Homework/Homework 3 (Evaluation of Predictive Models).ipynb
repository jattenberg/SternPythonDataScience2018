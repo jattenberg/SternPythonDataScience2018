{
 "cells": [
  {
   "cell_type": "markdown",
   "metadata": {},
   "source": [
    "# Homework 3: Evaluation of Predictive Models\n",
    "\n",
    "This exercise should guide you through performing a predictive modeling analysis.  You will choose a model type, set critical complexity parameters, and apply it to select prospects for a direct mailing charity campaign."
   ]
  },
  {
   "cell_type": "code",
   "execution_count": null,
   "metadata": {
    "collapsed": true
   },
   "outputs": [],
   "source": [
    "# Import the libraries we will be using\n",
    "import numpy as np\n",
    "import pandas as pd\n",
    "import sys\n",
    "\n",
    "import matplotlib.pylab as plt\n",
    "import seaborn as sns\n",
    "\n",
    "%matplotlib inline\n",
    "sns.set(style='ticks', palette='Set2')\n",
    "plt.rcParams['figure.figsize'] = 10, 8\n",
    "\n",
    "sys.path.append(\"..\")\n",
    "\n",
    "# tools for loading a few toy datasets\n",
    "from ds_utils.sample_data import *"
   ]
  },
  {
   "cell_type": "code",
   "execution_count": null,
   "metadata": {
    "collapsed": true
   },
   "outputs": [],
   "source": [
    "from sklearn.model_selection import train_test_split\n",
    "\n",
    "X, y = get_mailing_data()\n",
    "X_mailing_train, X_mailing_test, y_mailing_train, y_mailing_test = train_test_split(X, y, train_size=.75, test_size=.25, random_state=42)"
   ]
  },
  {
   "cell_type": "markdown",
   "metadata": {},
   "source": [
    "Mailing marketing offers can be costly.  We want to send out solicitations for donations; each solicitation costs us $2.00. Consider the examples above which are taken from a real direct marketing campaign. Each record (X) represents an individual who was targeted with a direct marketing offer. The offer was a solicitation to make a charitable donation. The features for each example represent various features related to an individual's financial data and prior donation activity, the target (y) value is 1 if the person responded to the mailer, and 0 otherwise.\n",
    "\n",
    "You will analyze (at least) three algorithms for these data: tree induction, logistic regression, and any other method of your choice.  Your ultimate goal is to build the _best_ model given the data and to do some analytics on the model.  You have a budget of $3000, and you will decide how to spend that on targeting. \n",
    "\n",
    "The task here is to simulate a realistic scenario where you are tuning a model on data you have available (here `X_mailing_train` and `y_mailing_train`) and then deploying that model on future unseen data (here `X_mailing_test` and `y_mailing_test`), observing how it performs \"in the wild\"."
   ]
  },
  {
   "cell_type": "markdown",
   "metadata": {},
   "source": [
    "**1.** Using cross validation on the training data, build 3 different types of models, tuning the appropriate complexity parameters to find the best possible area under the ROC curve (AUC). Models to build are:\n",
    "- A [`DecisionTreeClassifier`](http://scikit-learn.org/stable/modules/generated/sklearn.tree.DecisionTreeClassifier.html#sklearn.tree.DecisionTreeClassifier).\n",
    "- A [`LogisticRegression`](http://scikit-learn.org/stable/modules/generated/sklearn.linear_model.LogisticRegression.html) classifier. \n",
    "- A classifier of your choosing. Some possibilites to consider are the [`RandomForestClassifier`](http://scikit-learn.org/stable/modules/generated/sklearn.ensemble.RandomForestClassifier.html), the [`KNeighborsClassifier`](http://scikit-learn.org/stable/modules/generated/sklearn.neighbors.KNeighborsClassifier.html), and the deep learning approach [`MLPClassifier`](http://scikit-learn.org/stable/modules/generated/sklearn.neural_network.MLPClassifier.html#sklearn.neural_network.MLPClassifier) (MLP stands for Multi-layer perceptron). Feel free to explore sklearn and pick a model you're happy with. \n",
    "\n",
    "Describe the process you went through to identify the complexity parameters tuned and the process used to tune them. Print those parameters and AUC for the models you've chosen. Pick one model that you'll use going forward. Why did you pick this model?\n",
    "\n",
    "**Note:** not all sklearn classifiers can emit probabilities by default. Be sure to check the documentation and make the appropriate settings. Using the `predict_proba` method will be important later.\n",
    "Also: It isn't expected that you'll find the best possible model. Limit the number of hyper-parameters you evaluate so that time spent computing is constrained. Be concious that some more complex models take longer to train! You may want to do some test runs to try and estimate how long model training will take. "
   ]
  },
  {
   "cell_type": "code",
   "execution_count": null,
   "metadata": {},
   "outputs": [],
   "source": []
  },
  {
   "cell_type": "markdown",
   "metadata": {},
   "source": [
    "**2.** Apply your selected model to the test data (`X_mailing_test` and `y_mailing_test`), outputting the predicted probability of the 1's class. Ranking examples by this probability score, plot the lift curve of your model as compared to simple random selection."
   ]
  },
  {
   "cell_type": "code",
   "execution_count": null,
   "metadata": {
    "collapsed": true
   },
   "outputs": [],
   "source": []
  },
  {
   "cell_type": "markdown",
   "metadata": {},
   "source": [
    "**3.** How many positive responders (`y_mailing_test == 1`) would you select if you targeted the top 1%, 5% and 10% of your audience? How do these compare? "
   ]
  },
  {
   "cell_type": "code",
   "execution_count": null,
   "metadata": {
    "collapsed": true
   },
   "outputs": [],
   "source": []
  },
  {
   "cell_type": "markdown",
   "metadata": {},
   "source": [
    "**4.** Assume that the amount that people donate is $10.  Compute the (expected) value for each of the three thresholds.  Construct a cumulative profit curve and paste it below.\n",
    "  \n",
    "How many people would you target if you are trying to maximize your total expected profit?  What would the total profit be?\n",
    "What about if you just want to “break even”?  Imagine your budget for targeted marketing is \\$3000. What is your expected profit for this \\$3000 budget?  Does this budget make business sense for these data?  Make a recommendation for what to do."
   ]
  },
  {
   "cell_type": "code",
   "execution_count": null,
   "metadata": {
    "collapsed": true
   },
   "outputs": [],
   "source": []
  }
 ],
 "metadata": {
  "kernelspec": {
   "display_name": "Python [default]",
   "language": "python",
   "name": "python2"
  },
  "language_info": {
   "codemirror_mode": {
    "name": "ipython",
    "version": 2
   },
   "file_extension": ".py",
   "mimetype": "text/x-python",
   "name": "python",
   "nbconvert_exporter": "python",
   "pygments_lexer": "ipython2",
   "version": "2.7.13"
  }
 },
 "nbformat": 4,
 "nbformat_minor": 2
}
