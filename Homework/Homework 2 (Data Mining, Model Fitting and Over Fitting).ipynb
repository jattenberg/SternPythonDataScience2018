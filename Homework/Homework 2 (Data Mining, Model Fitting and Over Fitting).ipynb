{
 "cells": [
  {
   "cell_type": "markdown",
   "metadata": {},
   "source": [
    "# Homework 2: Data Mining, Model Fitting and Over Fitting\n",
    "\n",
    "This homework presents a number of questions about data mining and the data mining process. Additionally, this assignment builds upon the hands-on content presented in lectures 2 & 3 from class, asking that you fit and evaluate classification models. "
   ]
  },
  {
   "cell_type": "markdown",
   "metadata": {},
   "source": [
    "1) Label each case as describing either data mining (DM), or the use of the results of data mining (Use).\n",
    "\n",
    "a) ________________ Choose customers who are most likely to respond to an on-line ad.\n",
    "\n",
    "b) ________________ Discover rules that indicate when an account has been defrauded.\n",
    "\n",
    "c) ________________ Find patterns indicating what customer behavior is more likely to lead to response to an on-line ad.\n",
    "\n",
    "d) ________________ Estimate probability of default for a credit application.\n",
    "\n",
    "e) ________________ Predict whether a customer is pregnant"
   ]
  },
  {
   "cell_type": "markdown",
   "metadata": {},
   "source": [
    "### Short Answer Questions:\n",
    "\n",
    "Please answer the following questions in the markdown cells provided"
   ]
  },
  {
   "cell_type": "markdown",
   "metadata": {},
   "source": [
    "#### 2)  Plumbing Inc. has been selling plumbing supplies for the last 20 years. The owner, Joe, decides that next year it is finally time to diversify by adding gardening tools to his products. Having had success using customer data to build predictive models to guide direct mail campaigns for special plumbing offers, he considers that data mining could help him to identify a subset of customers who should be good prospects for his new set of products. Is Joe ready to solve this as a supervised learning problem? \n",
    "\n",
    "If yes – what would you suggest as the target variable?  If no  - why not?  What would you recommend that Joe do to achieve his business goal?"
   ]
  },
  {
   "cell_type": "markdown",
   "metadata": {},
   "source": []
  },
  {
   "cell_type": "markdown",
   "metadata": {},
   "source": [
    "#### 3) Choose a problem from a past job, hobby, or interest that would make for a good supervised predictive modeling application.  Describe it in one page or less, using the relevant concepts introduced in Modules 1 & 2 and Ch. 1 – 3 in the book.  Your description should be as complete and precise as possible, referring to the concepts introduced in class/in the book.  Please do not choose one of the applications we have discussed already (churn, targeted marketing, pregnancy prediction).  Include answers to the following: \n",
    "\n",
    "a) What exactly is the business decision you want to support with this solution?  (Specifically, what is the business action you are considering?  Discuss briefly the timing of the decision and the eventual outcome.)\n",
    "\n",
    "b) Describe the use phase\n",
    "\n",
    "c) Why did you select this as a good predictive modeling problem?\n",
    "\n",
    "d) How and where would you get the data?\n",
    "\n",
    "e) Explain precisely why and how you expect doing the predictive modeling \n",
    "will add value.\n",
    "\n",
    "f) What exactly is the quantity that you inherently do not know and need  to predict?\n",
    "\n",
    "g) Is this a classification, ranking, or probability estimation problem?\n",
    "\n",
    "h) What are the features? Provide a list of at least 5 features that you think (a) you can get and (b) you think might be useful.\n",
    "\n",
    "i) What exactly would be your training data?  "
   ]
  },
  {
   "cell_type": "markdown",
   "metadata": {},
   "source": []
  },
  {
   "cell_type": "markdown",
   "metadata": {},
   "source": [
    "### Hands-on with Python\n",
    "\n",
    "For this assignment, we revisit the wine quality dataset used in the prior class. Here we wish to predict if a wine is high quality given its chemical characteristics. "
   ]
  },
  {
   "cell_type": "code",
   "execution_count": null,
   "metadata": {
    "collapsed": true
   },
   "outputs": [],
   "source": [
    "# consider the following url referencing white wines\n",
    "wine_url = \"https://archive.ics.uci.edu/ml/machine-learning-databases/wine-quality/winequality-white.csv\""
   ]
  },
  {
   "cell_type": "markdown",
   "metadata": {},
   "source": [
    "#### 4) Load this data into a pandas dataframe. Be sure to drop any `na` values as a precaution, and introduce a new column: `\"is high quality\"` which has a value of `1` if a wine has a quality above the median, and `0` otherwise."
   ]
  },
  {
   "cell_type": "code",
   "execution_count": null,
   "metadata": {
    "collapsed": true
   },
   "outputs": [],
   "source": []
  },
  {
   "cell_type": "markdown",
   "metadata": {},
   "source": [
    "#### 5) What are the columns that we could use as predictors of wine quality? Using the `ds_utils` library code referenced in Class 3, plot the \"Decision Surface\" between pairs of predictor variables, using `None` as the input predictive model, and `\"is high quality\"` as the target. Make this a subplot with 11 rows, 5 columns."
   ]
  },
  {
   "cell_type": "code",
   "execution_count": null,
   "metadata": {
    "scrolled": false
   },
   "outputs": [],
   "source": []
  },
  {
   "cell_type": "markdown",
   "metadata": {},
   "source": [
    "#### 4) Let's build a model to predict if a wine is high quality using a `DecisionTreeClassifier`. As discussed in class, one way to control the complexity of a decision tree is by enforcing that at least some minimum number of examples from the training set populate each leaf. This is set with the `min_samples_leaf` parameter. For `min_samples_leaf` values ranging from 5 to 500 (increment by 5), compute the training accuracy and cross-validated accuracy for a `DecisionTreeClassifier` modeling `\"is high quality\"` using our predictive columns. Plot these two curves. What do you feel is the most appropriate value for `min_samples_leaf` for this problem? "
   ]
  },
  {
   "cell_type": "code",
   "execution_count": null,
   "metadata": {},
   "outputs": [],
   "source": []
  },
  {
   "cell_type": "code",
   "execution_count": null,
   "metadata": {
    "collapsed": true
   },
   "outputs": [],
   "source": []
  }
 ],
 "metadata": {
  "kernelspec": {
   "display_name": "Python [default]",
   "language": "python",
   "name": "python2"
  },
  "language_info": {
   "codemirror_mode": {
    "name": "ipython",
    "version": 2
   },
   "file_extension": ".py",
   "mimetype": "text/x-python",
   "name": "python",
   "nbconvert_exporter": "python",
   "pygments_lexer": "ipython2",
   "version": "2.7.13"
  }
 },
 "nbformat": 4,
 "nbformat_minor": 2
}
