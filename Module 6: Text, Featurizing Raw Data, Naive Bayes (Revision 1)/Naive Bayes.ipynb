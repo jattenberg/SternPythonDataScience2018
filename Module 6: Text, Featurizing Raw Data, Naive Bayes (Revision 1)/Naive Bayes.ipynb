{
 "cells": [
  {
   "cell_type": "markdown",
   "metadata": {},
   "source": [
    "# Naive Bayes\n",
    "\n",
    "Spring 2018 - Profs. Foster Provost and Josh Attenberg\n",
    "\n",
    "Teaching Assistant: Apostolos Filippas\n",
    "\n",
    "***\n",
    "\n"
   ]
  },
  {
   "cell_type": "markdown",
   "metadata": {},
   "source": [
    "Read in some packages."
   ]
  },
  {
   "cell_type": "code",
   "execution_count": 1,
   "metadata": {},
   "outputs": [],
   "source": [
    "# Import the libraries we will be using\n",
    "import numpy as np\n",
    "import pandas as pd\n",
    "\n",
    "import matplotlib.pylab as plt\n",
    "import seaborn as sns\n",
    "%matplotlib inline\n",
    "plt.rcParams['figure.figsize'] = 10, 8\n",
    "\n",
    "np.random.seed(36)\n",
    "\n",
    "import sys\n",
    "sys.path.append(\"..\")\n",
    "\n",
    "from ds_utils.spam_data import load_spam_ham"
   ]
  },
  {
   "cell_type": "markdown",
   "metadata": {},
   "source": [
    "### Data\n",
    "For this class we use the spam dataset described previously. "
   ]
  },
  {
   "cell_type": "code",
   "execution_count": 2,
   "metadata": {},
   "outputs": [
    {
     "data": {
      "text/html": [
       "<div>\n",
       "<style scoped>\n",
       "    .dataframe tbody tr th:only-of-type {\n",
       "        vertical-align: middle;\n",
       "    }\n",
       "\n",
       "    .dataframe tbody tr th {\n",
       "        vertical-align: top;\n",
       "    }\n",
       "\n",
       "    .dataframe thead th {\n",
       "        text-align: right;\n",
       "    }\n",
       "</style>\n",
       "<table border=\"1\" class=\"dataframe\">\n",
       "  <thead>\n",
       "    <tr style=\"text-align: right;\">\n",
       "      <th></th>\n",
       "      <th>text</th>\n",
       "      <th>spam</th>\n",
       "    </tr>\n",
       "  </thead>\n",
       "  <tbody>\n",
       "    <tr>\n",
       "      <th>0</th>\n",
       "      <td>Hi...I have to use R to find out the 90% confi...</td>\n",
       "      <td>ham</td>\n",
       "    </tr>\n",
       "    <tr>\n",
       "      <th>1</th>\n",
       "      <td>Francesco Poli wrote:&gt; On Sun, 15 Apr 2007 21:...</td>\n",
       "      <td>ham</td>\n",
       "    </tr>\n",
       "  </tbody>\n",
       "</table>\n",
       "</div>"
      ],
      "text/plain": [
       "                                                text spam\n",
       "0  Hi...I have to use R to find out the 90% confi...  ham\n",
       "1  Francesco Poli wrote:> On Sun, 15 Apr 2007 21:...  ham"
      ]
     },
     "execution_count": 2,
     "metadata": {},
     "output_type": "execute_result"
    }
   ],
   "source": [
    "spam_df = load_spam_ham()\n",
    "spam_df.head(2)"
   ]
  },
  {
   "cell_type": "code",
   "execution_count": 3,
   "metadata": {},
   "outputs": [
    {
     "data": {
      "text/plain": [
       "0    4864\n",
       "1    3246\n",
       "Name: spam, dtype: int64"
      ]
     },
     "execution_count": 3,
     "metadata": {},
     "output_type": "execute_result"
    }
   ],
   "source": [
    "def is_spam(label):\n",
    "    return 1 if label == \"spam\" else 0\n",
    "\n",
    "labels = spam_df[\"spam\"].apply(is_spam)\n",
    "labels.value_counts()"
   ]
  },
  {
   "cell_type": "code",
   "execution_count": 4,
   "metadata": {},
   "outputs": [],
   "source": [
    "from sklearn.feature_extraction.text import CountVectorizer\n",
    "from sklearn.model_selection import train_test_split\n",
    "\n",
    "X_train_txt, X_test_txt, y_train, y_test = train_test_split(spam_df[\"text\"], labels, train_size=0.75, test_size=0.25)\n",
    "    \n",
    "vectorizer = CountVectorizer(binary=True)\n",
    "X_train = vectorizer.fit_transform(X_train_txt)\n",
    "X_test = vectorizer.transform(X_test_txt)"
   ]
  },
  {
   "cell_type": "markdown",
   "metadata": {},
   "source": [
    "### Modeling with another technique: Naive Bayes\n",
    "\n",
    "So far we have been exposed to tree classifiers and logistic regression in class. We have also some other models in the homework. Now, it's time for another popular modeling technique of supervised learning (especially in text classification): the Naive Bayes (NB) classifier. In particular, we are using a Bernoulli Naive Bayes (BNB) for our binary classification. (Bernoulli NB is the model described in the book; there are other versions of NB, see below.)\n",
    "\n",
    "As described in your text, the Naive Bayes model is a **probabilistic approach which assumes conditional independence between features** (in this case, each word is a feature, the conditioning is on the true class). It assigns class labels (e.g. spam = 1 or spam = 0). In other words, Naive Bayes models the probabilities of the presence of each _word_, given that we have a spam email, and given that we have a non-spam email.  Then it combines them using Bayes Theorem (again, as described in the book).\n",
    "\n",
    "Using this model in sklearn works just the same as the others we've seen ([More details here..](http://scikit-learn.org/stable/modules/naive_bayes.html))\n",
    "\n",
    "- Choose the model\n",
    "- Fit the model (Train)\n",
    "- Predict with the model (Train or Test or Use data)"
   ]
  },
  {
   "cell_type": "code",
   "execution_count": 5,
   "metadata": {},
   "outputs": [
    {
     "data": {
      "text/plain": [
       "BernoulliNB(alpha=1.0, binarize=0.0, class_prior=None, fit_prior=True)"
      ]
     },
     "execution_count": 5,
     "metadata": {},
     "output_type": "execute_result"
    }
   ],
   "source": [
    "from sklearn.naive_bayes import BernoulliNB\n",
    "from sklearn.metrics import roc_auc_score\n",
    "\n",
    "model = BernoulliNB()\n",
    "model.fit(X_train, y_train)\n"
   ]
  },
  {
   "cell_type": "code",
   "execution_count": 6,
   "metadata": {},
   "outputs": [
    {
     "name": "stdout",
     "output_type": "stream",
     "text": [
      "AUC on the count TRAIN data = 0.981\n",
      "AUC on the count TEST data = 0.976\n"
     ]
    }
   ],
   "source": [
    "print (\"AUC on the count TRAIN data = %.3f\" % roc_auc_score(model.predict(X_train), y_train))\n",
    "print (\"AUC on the count TEST data = %.3f\" % roc_auc_score(model.predict(X_test), y_test))"
   ]
  },
  {
   "cell_type": "markdown",
   "metadata": {},
   "source": [
    "The past few weeks we have seen that many of the models we are using have different complexity control parameters that can be tweaked. In naive Bayes, the parameter that is typically tuned is the Laplace smoothing value **`alpha`**.\n",
    "\n",
    "Also, there are other versions of naive Bayes:\n",
    "\n",
    "1. **Multinomial naive Bayes (MNB):** This model handles count features and not just binary features. Sometimes MNB is used with binary presence/absence variables anyway (like word presence), even though that violates the model assumptions, because in practice it works well anyway.\n",
    "2. **Gaussian Naive Bayes (GNB):** This model considers likelihood of the features as Gaussian--and thus we can use it for continuous features.  Sometimes GNB and Bernoulli NB are combined when one has features of mixed types.  "
   ]
  },
  {
   "cell_type": "code",
   "execution_count": 7,
   "metadata": {},
   "outputs": [],
   "source": [
    "from sklearn.naive_bayes import MultinomialNB, GaussianNB\n",
    "from sklearn.linear_model import LogisticRegression\n",
    "from sklearn.feature_extraction.text import TfidfVectorizer\n",
    "from sklearn.metrics import roc_curve\n",
    "\n",
    "def build_curve(X_train_txt, X_test_txt, y_train, y_test, featurizer, model, training_sample=1.0):\n",
    "    to_get = training_sample*len(X_train_txt)\n",
    "\n",
    "    X_train = featurizer.fit_transform(X_train_txt[:int(to_get)]).toarray()\n",
    "    X_test = featurizer.transform(X_test_txt).toarray()\n",
    "    \n",
    "    model.fit(X_train, y_train[:int(to_get)])\n",
    "    return roc_curve(y_test, model.predict_proba(X_test)[:,1])"
   ]
  },
  {
   "cell_type": "code",
   "execution_count": 8,
   "metadata": {},
   "outputs": [
    {
     "data": {
      "image/png": "[encoded data removed]",
      "text/plain": [
       "<matplotlib.figure.Figure at 0x7fa0e10119e8>"
      ]
     },
     "metadata": {},
     "output_type": "display_data"
    }
   ],
   "source": [
    "\n",
    "bern_fpr, bern_tpr, thresholds = build_curve(X_train_txt, X_test_txt, y_train, y_test, CountVectorizer(binary=True), BernoulliNB())\n",
    "\n",
    "multi_fpr, multi_tpr, thresholds = build_curve(X_train_txt, X_test_txt, y_train, y_test, CountVectorizer(binary=False), MultinomialNB())\n",
    "\n",
    "gauss_fpr, gauss_tpr, thresholds = build_curve(X_train_txt, X_test_txt, y_train, y_test, TfidfVectorizer(), GaussianNB())\n",
    "\n",
    "lr_fpr, lr_tpr, thresholds = build_curve(X_train_txt, X_test_txt, y_train, y_test, TfidfVectorizer(), LogisticRegression())\n",
    "\n",
    "\n",
    "plt.plot(bern_fpr, bern_tpr, label=\"Bernoulli NB\")\n",
    "plt.plot(multi_fpr, multi_tpr, label=\"Multinomial NB\")\n",
    "plt.plot(gauss_fpr, gauss_tpr, label=\"Gaussian NB\")\n",
    "plt.plot(lr_fpr, lr_tpr, label=\"Logistic Regression\")\n",
    "\n",
    "plt.xlabel(\"false positive rate\")\n",
    "plt.ylabel(\"true positive rate\")\n",
    "plt.legend(loc=\"lower right\")\n",
    "\n",
    "plt.xlim([0, .07])\n",
    "plt.ylim([.90, 1.001])\n",
    "\n",
    "plt.show()"
   ]
  },
  {
   "cell_type": "code",
   "execution_count": 9,
   "metadata": {},
   "outputs": [
    {
     "data": {
      "image/png": "[encoded data removed]",
      "text/plain": [
       "<matplotlib.figure.Figure at 0x7fa0e1058588>"
      ]
     },
     "metadata": {},
     "output_type": "display_data"
    }
   ],
   "source": [
    "\n",
    "bern_fpr, bern_tpr, thresholds = build_curve(X_train_txt, X_test_txt, y_train, y_test, CountVectorizer(binary=True), BernoulliNB(), 0.01)\n",
    "\n",
    "multi_fpr, multi_tpr, thresholds = build_curve(X_train_txt, X_test_txt, y_train, y_test, CountVectorizer(binary=False), MultinomialNB(), 0.01)\n",
    "\n",
    "gauss_fpr, gauss_tpr, thresholds = build_curve(X_train_txt, X_test_txt, y_train, y_test, TfidfVectorizer(), GaussianNB(), 0.01)\n",
    "\n",
    "lr_fpr, lr_tpr, thresholds = build_curve(X_train_txt, X_test_txt, y_train, y_test, TfidfVectorizer(), LogisticRegression(), 0.01)\n",
    "\n",
    "\n",
    "plt.plot(bern_fpr, bern_tpr, label=\"Bernoulli NB\")\n",
    "plt.plot(multi_fpr, multi_tpr, label=\"Multinomial NB\")\n",
    "plt.plot(gauss_fpr, gauss_tpr, label=\"Gaussian NB\")\n",
    "plt.plot(lr_fpr, lr_tpr, label=\"Logistic Regression\")\n",
    "\n",
    "plt.xlabel(\"false positive rate\")\n",
    "plt.ylabel(\"true positive rate\")\n",
    "plt.legend(loc=\"lower right\")\n",
    "\n",
    "plt.xlim([0, .07])\n",
    "plt.ylim([.40, 1.001])\n",
    "\n",
    "plt.show()"
   ]
  },
  {
   "cell_type": "code",
   "execution_count": null,
   "metadata": {},
   "outputs": [],
   "source": []
  }
 ],
 "metadata": {
  "kernelspec": {
   "display_name": "Python 3",
   "language": "python",
   "name": "python3"
  },
  "language_info": {
   "codemirror_mode": {
    "name": "ipython",
    "version": 3
   },
   "file_extension": ".py",
   "mimetype": "text/x-python",
   "name": "python",
   "nbconvert_exporter": "python",
   "pygments_lexer": "ipython3",
   "version": "3.5.2"
  }
 },
 "nbformat": 4,
 "nbformat_minor": 1
}
