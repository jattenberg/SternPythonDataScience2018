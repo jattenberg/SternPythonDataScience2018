{
 "cells": [
  {
   "cell_type": "markdown",
   "metadata": {},
   "source": [
    "# Dealing with Text for ML\n",
    "\n",
    "Spring 2018 - Profs. Foster Provost and Josh Attenberg\n",
    "\n",
    "Teaching Assistant: Apostolos Filippas\n",
    "\n",
    "***\n",
    "\n"
   ]
  },
  {
   "cell_type": "code",
   "execution_count": 1,
   "metadata": {
    "collapsed": true
   },
   "outputs": [],
   "source": [
    "# Import the libraries we will be using\n",
    "import numpy as np\n",
    "import pandas as pd\n",
    "import sys\n",
    "\n",
    "import seaborn as sns\n",
    "import matplotlib.pylab as plt\n",
    "\n",
    "%matplotlib inline\n",
    "plt.rcParams['figure.figsize'] = 10, 8\n",
    "\n",
    "np.random.seed(36)\n",
    "\n",
    "sys.path.append(\"..\")\n",
    "\n",
    "from ds_utils.spam_data import load_spam_ham"
   ]
  },
  {
   "cell_type": "markdown",
   "metadata": {},
   "source": [
    "### Data\n",
    "For this class, we have a new data set comtaining a number of messages, some are spam, others are genuine non-spam (ham). Let's load it and take a look:"
   ]
  },
  {
   "cell_type": "code",
   "execution_count": 2,
   "metadata": {},
   "outputs": [
    {
     "data": {
      "text/html": [
       "<div>\n",
       "<style scoped>\n",
       "    .dataframe tbody tr th:only-of-type {\n",
       "        vertical-align: middle;\n",
       "    }\n",
       "\n",
       "    .dataframe tbody tr th {\n",
       "        vertical-align: top;\n",
       "    }\n",
       "\n",
       "    .dataframe thead th {\n",
       "        text-align: right;\n",
       "    }\n",
       "</style>\n",
       "<table border=\"1\" class=\"dataframe\">\n",
       "  <thead>\n",
       "    <tr style=\"text-align: right;\">\n",
       "      <th></th>\n",
       "      <th>text</th>\n",
       "      <th>spam</th>\n",
       "    </tr>\n",
       "  </thead>\n",
       "  <tbody>\n",
       "    <tr>\n",
       "      <th>0</th>\n",
       "      <td>Hi...I have to use R to find out the 90% confi...</td>\n",
       "      <td>ham</td>\n",
       "    </tr>\n",
       "    <tr>\n",
       "      <th>1</th>\n",
       "      <td>Francesco Poli wrote:&gt; On Sun, 15 Apr 2007 21:...</td>\n",
       "      <td>ham</td>\n",
       "    </tr>\n",
       "  </tbody>\n",
       "</table>\n",
       "</div>"
      ],
      "text/plain": [
       "                                                text spam\n",
       "0  Hi...I have to use R to find out the 90% confi...  ham\n",
       "1  Francesco Poli wrote:> On Sun, 15 Apr 2007 21:...  ham"
      ]
     },
     "execution_count": 2,
     "metadata": {},
     "output_type": "execute_result"
    }
   ],
   "source": [
    "spam_df = load_spam_ham()\n",
    "spam_df.head(2)"
   ]
  },
  {
   "cell_type": "code",
   "execution_count": 3,
   "metadata": {},
   "outputs": [
    {
     "data": {
      "text/plain": [
       "array(['Hi...I have to use R to find out the 90% confidence-interval for the sensitivityand specificity of the following diagnostic test:A particular diagnostic test for multiple sclerosis was conducted on 20 MSpatients and 20 healthy subjects, 6 MS patients were classified as healthyand 8 healthy subjects were classified as suffering from the MS.Furthermore, I need to find the number of MS patients required for asensitivity of 1%...Is there a simple R-command which can do that for me?I am completely new to R...Help please!Jochen-- View this message in context: http://www.nabble.com/Confidence-Intervals....-help...-tf3544217.html#a9894014Sent from the R help mailing list archive at Nabble.com.______________________________________________R-help@stat.math.ethz.ch mailing listhttps://stat.ethz.ch/mailman/listinfo/r-helpPLEASE do read the posting guide http://www.R-project.org/posting-guide.html',\n",
       "       'Francesco Poli wrote:> On Sun, 15 Apr 2007 21:24:00 +0200 Arnoud Engelfriet wrote:> > The sign [X] (hereafter \"the Mark\") is a trademark, rights to which> > are held by [Y], representing [Z] if applicable (hereafter \"the> > Mark Holder\").> > Wait, the \"Mark Holder\" would be [Y], I think.I thought you used Y and Z for cases where Y is licensing Z\\'strademark (if Y is Z\\'s subsidiary or authorized licensee for example).Then the trademark holder is Z but Y has certain rights to the mark.The \"if applicable\" means if there is a Z. Perhaps the whole Z thingshould be taken out. \"Rights to which are held by Y\", and in thedocument where you define Y you can explain that Y is a subsidiaryof Z or whatever.> | If the Mark qualifies as an original work of authorship under> | copyright law, then the Mark Holder hereby also grants you a copyright> | license, but that is not a trademark license and should not be> | construed as one.That\\'s what I meant. If you\\'re separating the two, I don\\'t think the word \"also\" in theabove is appropriate. I guess in such a case you don\\'t want to saymore than \"there\\'s also a copyright license, go read that one, butremember it\\'s not a trademark license.\" | If the Mark qualifies as an original work of authorship under| copyright law, then the Mark Holder SEPARATELY grants you a copyright| license, but that is not a trademark license and should not be| construed as one.That word \\'separately\\' makes it clear that this sentence is merelyan explanation and not by itself a copyright license.Arnoud-- Arnoud Engelfriet, Dutch & European patent attorney - Speaking only for myselfPatents, copyright and IPR explained for techies: http://www.iusmentis.com/-- To UNSUBSCRIBE, email to debian-legal-REQUEST@lists.debian.org'],\n",
       "      dtype=object)"
      ]
     },
     "execution_count": 3,
     "metadata": {},
     "output_type": "execute_result"
    }
   ],
   "source": [
    "spam_df[\"text\"][:2].values"
   ]
  },
  {
   "cell_type": "markdown",
   "metadata": {},
   "source": [
    "Looks like we have two features: some text (looks like an email). The input also has a label column (spam) What is the distribution of the target variable?"
   ]
  },
  {
   "cell_type": "code",
   "execution_count": 4,
   "metadata": {},
   "outputs": [
    {
     "data": {
      "text/plain": [
       "ham     4864\n",
       "spam    3246\n",
       "Name: spam, dtype: int64"
      ]
     },
     "execution_count": 4,
     "metadata": {},
     "output_type": "execute_result"
    }
   ],
   "source": [
    "spam_df[\"spam\"].value_counts()"
   ]
  },
  {
   "cell_type": "markdown",
   "metadata": {},
   "source": [
    "Here, the target is whether or not a record should be considered as spam. This is recorded as the string 'spam' or 'ham'. To make it a little easier for our classifier, let's recode it as `0` or `1`."
   ]
  },
  {
   "cell_type": "code",
   "execution_count": 5,
   "metadata": {},
   "outputs": [
    {
     "data": {
      "text/plain": [
       "0    4864\n",
       "1    3246\n",
       "Name: spam, dtype: int64"
      ]
     },
     "execution_count": 5,
     "metadata": {},
     "output_type": "execute_result"
    }
   ],
   "source": [
    "def is_spam(label):\n",
    "    return 1 if label == \"spam\" else 0\n",
    "\n",
    "labels = spam_df[\"spam\"].apply(is_spam)\n",
    "labels.value_counts()"
   ]
  },
  {
   "cell_type": "markdown",
   "metadata": {},
   "source": [
    "Since we are going to do some modeling, we should split our data into a training and test set."
   ]
  },
  {
   "cell_type": "code",
   "execution_count": 6,
   "metadata": {
    "collapsed": true
   },
   "outputs": [],
   "source": [
    "from sklearn.model_selection import train_test_split\n",
    "\n",
    "X_train, X_test, y_train, y_test = train_test_split(spam_df[\"text\"], labels, train_size=0.75, test_size=0.25)"
   ]
  },
  {
   "cell_type": "markdown",
   "metadata": {},
   "source": [
    "### Text as features\n",
    "How can we turn the large amount of text for each record into useful features?\n",
    "\n",
    "\n",
    "#### Binary representation\n",
    "One way is to create a matrix that uses each word as a feature and keeps track of whether or not a word appears in a document/record. You can do this in sklearn with a `CountVectorizer()` and setting `binary` to `true`. The process is very similar to how you fit a model: you will fit a `CounterVectorizer()`. This will figure out what words exist in your data."
   ]
  },
  {
   "cell_type": "code",
   "execution_count": 7,
   "metadata": {},
   "outputs": [
    {
     "data": {
      "text/plain": [
       "CountVectorizer(analyzer=u'word', binary=True, decode_error=u'strict',\n",
       "        dtype=<type 'numpy.int64'>, encoding=u'utf-8', input=u'content',\n",
       "        lowercase=True, max_df=1.0, max_features=None, min_df=1,\n",
       "        ngram_range=(1, 1), preprocessor=None, stop_words=None,\n",
       "        strip_accents=None, token_pattern=u'(?u)\\\\b\\\\w\\\\w+\\\\b',\n",
       "        tokenizer=None, vocabulary=None)"
      ]
     },
     "execution_count": 7,
     "metadata": {},
     "output_type": "execute_result"
    }
   ],
   "source": [
    "from sklearn.feature_extraction.text import CountVectorizer\n",
    "\n",
    "binary_vectorizer = CountVectorizer(binary=True)\n",
    "binary_vectorizer.fit(X_train)"
   ]
  },
  {
   "cell_type": "markdown",
   "metadata": {},
   "source": [
    "Let's look at the vocabulary the `CountVectorizer()` learned."
   ]
  },
  {
   "cell_type": "code",
   "execution_count": 8,
   "metadata": {},
   "outputs": [
    {
     "data": {
      "text/plain": [
       "[(u'fawn', 27996),\n",
       " (u'somegovernments', 57156),\n",
       " (u'localstatedir', 39335),\n",
       " (u'sonja', 57228),\n",
       " (u'woods', 69328),\n",
       " (u'spiders', 57574),\n",
       " (u'hanging', 31861),\n",
       " (u'woody', 69332),\n",
       " (u'ksh_command', 37609),\n",
       " (u'localized', 39331)]"
      ]
     },
     "execution_count": 8,
     "metadata": {},
     "output_type": "execute_result"
    }
   ],
   "source": [
    "vocabulary_list = list(zip( binary_vectorizer.vocabulary_.keys(), binary_vectorizer.vocabulary_.values()) )\n",
    "\n",
    "vocabulary_list[0:10]"
   ]
  },
  {
   "cell_type": "markdown",
   "metadata": {},
   "source": [
    "Now that we know what words are in the data, we can transform our blobs of text into a clean matrix. Simply `.transform()` the raw data using our fitted `CountVectorizer()`. You will do this for the training and test data. What do you think happens if there are new words in the test data that were not seen in the training data?"
   ]
  },
  {
   "cell_type": "code",
   "execution_count": 9,
   "metadata": {
    "collapsed": true
   },
   "outputs": [],
   "source": [
    "X_train_binary = binary_vectorizer.transform(X_train)\n",
    "X_test_binary = binary_vectorizer.transform(X_test)"
   ]
  },
  {
   "cell_type": "markdown",
   "metadata": {},
   "source": [
    "We can take a look at our new `X_test_counts`."
   ]
  },
  {
   "cell_type": "code",
   "execution_count": 10,
   "metadata": {},
   "outputs": [
    {
     "data": {
      "text/plain": [
       "<2028x71157 sparse matrix of type '<type 'numpy.int64'>'\n",
       "\twith 225416 stored elements in Compressed Sparse Row format>"
      ]
     },
     "execution_count": 10,
     "metadata": {},
     "output_type": "execute_result"
    }
   ],
   "source": [
    "X_test_binary"
   ]
  },
  {
   "cell_type": "markdown",
   "metadata": {},
   "source": [
    "Sparse matrix? Where is our data?\n",
    "\n",
    "If you look at the output above, you will see that it is being stored in a *sparse* matrix (as opposed to the typical dense matrix) that is ~2k rows long and ~70k columns. The rows here are records in the original data and the columns are words. Given the shape, this means there are ~140,000,000 cells that should have values. However, from the above, we can see that only ~220,000 cells (~0.15%) of the cells have values! Why is this?\n",
    "\n",
    "To save space, sklearn sometimes uses a sparse matrix. This means that only values that are not zero are stored! This saves a ton of space! This also means that visualizing the data is a little trickier. Let's look at a very small chunk."
   ]
  },
  {
   "cell_type": "code",
   "execution_count": 11,
   "metadata": {},
   "outputs": [
    {
     "data": {
      "text/plain": [
       "matrix([[0, 0, 1, 0, 0, 0, 0, 0, 0, 0, 0, 0, 0, 0, 0, 0, 0, 0, 0, 0],\n",
       "        [0, 0, 0, 0, 0, 0, 0, 0, 0, 0, 0, 0, 0, 0, 0, 0, 0, 0, 0, 0],\n",
       "        [0, 0, 0, 0, 0, 0, 0, 0, 0, 0, 0, 0, 0, 0, 0, 0, 0, 0, 0, 0],\n",
       "        [0, 0, 0, 0, 0, 0, 0, 0, 0, 0, 0, 0, 0, 0, 0, 0, 0, 0, 0, 0],\n",
       "        [0, 0, 0, 0, 0, 0, 0, 0, 0, 0, 0, 0, 0, 0, 0, 0, 0, 0, 0, 0],\n",
       "        [0, 0, 0, 0, 0, 0, 0, 0, 0, 0, 0, 0, 0, 0, 0, 0, 0, 0, 0, 0],\n",
       "        [0, 0, 0, 0, 0, 0, 0, 0, 0, 0, 0, 0, 0, 0, 0, 0, 0, 0, 0, 0],\n",
       "        [0, 0, 0, 0, 0, 0, 0, 0, 0, 0, 0, 0, 0, 0, 0, 0, 0, 0, 0, 0],\n",
       "        [1, 0, 0, 0, 0, 0, 0, 0, 0, 0, 0, 0, 0, 0, 0, 0, 0, 0, 0, 0],\n",
       "        [0, 0, 0, 0, 0, 0, 0, 0, 0, 0, 0, 0, 0, 0, 0, 0, 0, 0, 0, 0],\n",
       "        [0, 0, 0, 0, 0, 0, 0, 0, 0, 0, 0, 0, 0, 0, 0, 0, 0, 0, 0, 0],\n",
       "        [0, 0, 0, 0, 0, 0, 0, 0, 0, 0, 0, 0, 0, 0, 0, 0, 0, 0, 0, 0],\n",
       "        [1, 1, 0, 0, 0, 0, 0, 0, 0, 0, 0, 0, 0, 0, 0, 0, 0, 0, 0, 0],\n",
       "        [0, 0, 0, 0, 0, 0, 0, 0, 0, 0, 0, 0, 0, 0, 0, 0, 0, 0, 0, 0],\n",
       "        [1, 0, 1, 0, 0, 0, 0, 0, 0, 0, 0, 0, 0, 0, 0, 0, 0, 0, 0, 0],\n",
       "        [0, 0, 0, 0, 0, 0, 0, 0, 0, 0, 0, 0, 0, 0, 0, 0, 0, 0, 0, 0],\n",
       "        [0, 0, 0, 0, 0, 0, 0, 0, 0, 0, 0, 0, 0, 0, 0, 0, 0, 0, 0, 0],\n",
       "        [0, 0, 0, 0, 0, 0, 0, 0, 0, 0, 0, 0, 0, 0, 0, 0, 0, 0, 0, 0],\n",
       "        [0, 0, 0, 0, 0, 0, 0, 0, 0, 0, 0, 0, 0, 0, 0, 0, 0, 0, 0, 0],\n",
       "        [0, 1, 0, 0, 0, 0, 0, 0, 0, 0, 0, 0, 0, 0, 0, 0, 0, 0, 0, 0]])"
      ]
     },
     "execution_count": 11,
     "metadata": {},
     "output_type": "execute_result"
    }
   ],
   "source": [
    "X_test_binary[0:20, 0:20].todense()"
   ]
  },
  {
   "cell_type": "markdown",
   "metadata": {},
   "source": [
    "#### Applying a model\n",
    "Now that we have a ton of features (since we have a ton of words!) let's try using a logistic regression model to predict spam/ham."
   ]
  },
  {
   "cell_type": "code",
   "execution_count": 28,
   "metadata": {},
   "outputs": [
    {
     "name": "stdout",
     "output_type": "stream",
     "text": [
      "Area under the ROC curve on test data = 1.000\n"
     ]
    }
   ],
   "source": [
    "from sklearn.linear_model import LogisticRegression\n",
    "from sklearn.metrics import roc_auc_score\n",
    "\n",
    "binary_lr = LogisticRegression()\n",
    "binary_lr.fit(X_train_binary, y_train)\n",
    "\n",
    "binary_model_predictions = binary_lr.predict_proba(X_test_binary)[:,1]\n",
    "binary_model_auc = roc_auc_score(y_test, binary_model_predictions)\n",
    "\n",
    "print (\"Area under the ROC curve on test data = %.3f\" % binary_model_auc)"
   ]
  },
  {
   "cell_type": "markdown",
   "metadata": {},
   "source": [
    "Is this any good? What do we care about in this case? Let's take a look at our ROC measure in more detail by looking at the actual ROC curve."
   ]
  },
  {
   "cell_type": "code",
   "execution_count": 13,
   "metadata": {},
   "outputs": [
    {
     "data": {
      "image/png": "[encoded data removed]",
      "text/plain": [
       "<matplotlib.figure.Figure at 0x10f496990>"
      ]
     },
     "metadata": {},
     "output_type": "display_data"
    }
   ],
   "source": [
    "from sklearn.metrics import roc_curve\n",
    "binary_model_fpr, binary_model_tpr, thresholds = roc_curve(y_test, binary_model_predictions)\n",
    "\n",
    "ax = plt.subplot()\n",
    "plt.plot(binary_model_fpr, binary_model_tpr)\n",
    "plt.xlabel(\"false positive rate\")\n",
    "plt.ylabel(\"true positive rate\")\n",
    "plt.title(\"ROC Curve\")\n",
    "plt.show()"
   ]
  },
  {
   "cell_type": "markdown",
   "metadata": {},
   "source": [
    " **Yikes! That looks perfect.  Let's zoom in!**\n"
   ]
  },
  {
   "cell_type": "code",
   "execution_count": 14,
   "metadata": {},
   "outputs": [
    {
     "data": {
      "image/png": "[encoded data removed]",
      "text/plain": [
       "<matplotlib.figure.Figure at 0x110575390>"
      ]
     },
     "metadata": {},
     "output_type": "display_data"
    }
   ],
   "source": [
    "plt.plot(binary_model_fpr, binary_model_tpr)\n",
    "plt.xlabel(\"false positive rate\")\n",
    "plt.ylabel(\"true positive rate\")\n",
    "plt.title(\"ROC Curve\")\n",
    "plt.xlim([0, .07])\n",
    "plt.ylim([.98, 1.001])\n",
    "plt.show()"
   ]
  },
  {
   "cell_type": "markdown",
   "metadata": {},
   "source": [
    "Very good indeed!"
   ]
  },
  {
   "cell_type": "markdown",
   "metadata": {},
   "source": [
    "** Aside: ** The `LogisticRegression` function in sklearn loads all the training data into memory and applies mathematical optimization techniques to set the parameters that minimize the loss over the training data. Consequence: this can be slow in some cases, and in cases where the training data is very large, it might lead to out of memory errors or issues with \"paging\".\n",
    "\n",
    "There is an alternative implementation to `LogisticRegression`, the [`SGDClassifier`](http://scikit-learn.org/stable/modules/generated/sklearn.linear_model.SGDClassifier.html#sklearn.linear_model.SGDClassifier). `SGDClassifier` loads examples from the training data in small batches. For each batch of training data, a small \"optimization step\" is performed where the model parameters are pushed towards value that reduces the loss over that batch. Consequence: extremely large volumes of training data can be consumed, and with some tweaking, \"streaming\" problems can be handled. The downside is, in the best case (small problems), vanilla `LogisticRegression` may converge more quickly, and may get closer to the best possible solution, as `SGDClassifier` performs iterative approximations."
   ]
  },
  {
   "cell_type": "code",
   "execution_count": 15,
   "metadata": {},
   "outputs": [
    {
     "name": "stdout",
     "output_type": "stream",
     "text": [
      "Area under the ROC curve on test data = 1.000\n"
     ]
    }
   ],
   "source": [
    "from sklearn.linear_model import SGDClassifier\n",
    "\n",
    "# sgd classifier can minimize a number of losses.\n",
    "# loss = \"log\" is a logistic regression\n",
    "binary_sgd_lr = SGDClassifier(loss=\"log\", max_iter=1000, tol=0.000001)\n",
    "\n",
    "binary_sgd_lr.fit(X_train_binary, y_train)\n",
    "\n",
    "binary_sgd_model_predictions = binary_sgd_lr.predict_proba(X_test_binary)[:,1]\n",
    "binary_sgd_model_auc = roc_auc_score(y_test, binary_sgd_model_predictions)\n",
    "\n",
    "print (\"Area under the ROC curve on test data = %.3f\" % binary_sgd_model_auc)"
   ]
  },
  {
   "cell_type": "markdown",
   "metadata": {},
   "source": [
    "#### Counts instead of binary\n",
    "Instead of using a 0 or 1 to represent the occurence of a word, we can use the actual counts. We do this the same way as before, but now we leave `binary` set to `false` (the default value)."
   ]
  },
  {
   "cell_type": "code",
   "execution_count": 16,
   "metadata": {},
   "outputs": [
    {
     "name": "stdout",
     "output_type": "stream",
     "text": [
      "Area under the ROC curve on test data = 1.000\n"
     ]
    }
   ],
   "source": [
    "# Fit a counter (leave the default binary flag, which is false)\n",
    "count_vectorizer = CountVectorizer()\n",
    "count_vectorizer.fit(X_train)\n",
    "\n",
    "# Transform to counter\n",
    "X_train_counts = count_vectorizer.transform(X_train)\n",
    "X_test_counts = count_vectorizer.transform(X_test)\n",
    "\n",
    "# Model\n",
    "count_lr = LogisticRegression()\n",
    "count_lr.fit(X_train_counts, y_train)\n",
    "\n",
    "count_predictions = count_lr.predict_proba(X_test_counts)[:,1]\n",
    "count_model_auc = roc_auc_score(y_test, count_predictions)\n",
    "\n",
    "print (\"Area under the ROC curve on test data = %.3f\" % count_model_auc)"
   ]
  },
  {
   "cell_type": "markdown",
   "metadata": {},
   "source": [
    "We can also take a look at the ROC curve."
   ]
  },
  {
   "cell_type": "code",
   "execution_count": 17,
   "metadata": {},
   "outputs": [
    {
     "data": {
      "image/png": "[encoded data removed]",
      "text/plain": [
       "<matplotlib.figure.Figure at 0x111a2f790>"
      ]
     },
     "metadata": {},
     "output_type": "display_data"
    }
   ],
   "source": [
    "count_model_fpr, count_model_tpr, thresholds = roc_curve(y_test, count_predictions)\n",
    "\n",
    "plt.plot(count_model_fpr, count_model_tpr)\n",
    "plt.xlabel(\"false positive rate\")\n",
    "plt.ylabel(\"true positive rate\")\n",
    "plt.title(\"ROC Curve (with word counts)\")\n",
    "plt.xlim([0, .07])\n",
    "plt.ylim([.96, 1.001])\n",
    "\n",
    "plt.show()"
   ]
  },
  {
   "cell_type": "markdown",
   "metadata": {},
   "source": [
    "#### Tf-idf\n",
    "Another popular technique when dealing with text is to use the term frequency - inverse document frequency (tf-idf) measure instead of just counts as the feature values (see text)."
   ]
  },
  {
   "cell_type": "code",
   "execution_count": 18,
   "metadata": {},
   "outputs": [
    {
     "name": "stdout",
     "output_type": "stream",
     "text": [
      "Area under the ROC curve on test data = 1.000\n"
     ]
    }
   ],
   "source": [
    "# Fit a counter\n",
    "from sklearn.feature_extraction.text import TfidfVectorizer\n",
    "\n",
    "tfidf_vectorizer = TfidfVectorizer()\n",
    "tfidf_vectorizer.fit(X_train)\n",
    "\n",
    "# Transform to a counter\n",
    "X_train_tfidf = tfidf_vectorizer.transform(X_train)\n",
    "X_test_tfidf = tfidf_vectorizer.transform(X_test)\n",
    "\n",
    "# Model\n",
    "tfidf_model = LogisticRegression()\n",
    "tfidf_model.fit(X_train_tfidf, y_train)\n",
    "\n",
    "tfidf_predictions = tfidf_model.predict_proba(X_test_tfidf)[:,1]\n",
    "tfidf_auc = roc_auc_score(y_test, tfidf_predictions)\n",
    "\n",
    "print (\"Area under the ROC curve on test data = %.3f\" % tfidf_auc)"
   ]
  },
  {
   "cell_type": "markdown",
   "metadata": {},
   "source": [
    "Once again, we can look at the ROC curve."
   ]
  },
  {
   "cell_type": "code",
   "execution_count": 19,
   "metadata": {},
   "outputs": [
    {
     "data": {
      "image/png": "[encoded data removed]",
      "text/plain": [
       "<matplotlib.figure.Figure at 0x10f51a550>"
      ]
     },
     "metadata": {},
     "output_type": "display_data"
    }
   ],
   "source": [
    "tfidf_fpr, tfidf_tpr, thresholds = roc_curve(y_test, tfidf_predictions)\n",
    "\n",
    "plt.plot(tfidf_fpr, tfidf_tpr)\n",
    "plt.xlabel(\"false positive rate\")\n",
    "plt.ylabel(\"true positive_rate\")\n",
    "plt.title(\"ROC Curve (with tfidf features)\")\n",
    "\n",
    "plt.xlim([0, .07])\n",
    "plt.ylim([.96, 1.001])\n",
    "\n",
    "plt.show()"
   ]
  },
  {
   "cell_type": "markdown",
   "metadata": {},
   "source": [
    "Now that we have a few different feature sets and models, let's look at all of our ROC curves."
   ]
  },
  {
   "cell_type": "code",
   "execution_count": 29,
   "metadata": {},
   "outputs": [
    {
     "data": {
      "image/png": "[encoded data removed]",
      "text/plain": [
       "<matplotlib.figure.Figure at 0x117f9b0d0>"
      ]
     },
     "metadata": {},
     "output_type": "display_data"
    }
   ],
   "source": [
    "plt.plot(tfidf_fpr, tfidf_tpr, label=\"TF-IDF\")\n",
    "plt.plot(count_model_fpr, count_model_tpr, label=\"Word Counts\")\n",
    "plt.plot(binary_model_fpr, binary_model_tpr, label=\"Binary Word Features\")\n",
    "\n",
    "plt.xlabel(\"false positive rate\")\n",
    "plt.ylabel(\"true positive rate\")\n",
    "plt.title(\"ROC Curves\")\n",
    "plt.legend()\n",
    "\n",
    "plt.xlim([0, .07])\n",
    "plt.ylim([.98, 1.001])\n",
    "\n",
    "plt.show()"
   ]
  },
  {
   "cell_type": "markdown",
   "metadata": {},
   "source": [
    "## Modeling on Text in Practice\n",
    "\n",
    "Most text modeling pipelines have a number of heuristic transforms used to reduce some of this noise.\n",
    "\n",
    "Some issues that require thought in practical text mining settings:\n",
    "* casing of words (upper vs lower)\n",
    "* unique words / hashcodes / gibberish\n",
    "* different character encodings\n",
    "* accents, alternative characters for certain letters\n",
    "* unique or very rare words\n",
    "* punctuation and spacing: what is a \"word\"?\n",
    "* bold/italicized/underlined words\n",
    "* html or mime data is common. Usually just the raw text is extracted but the structure could be important. \n",
    "* dates or phone numbers (important but often unique)\n",
    "* emojis\n",
    "* urls (important, but should be parsed carefully, often unique) \n",
    "\n",
    "\n",
    "And thats just scratching the surface! Some of these can be handled by settings in sklearn's vectorizer classes, others must be handled by the data scientist themselves. Let's take a look at an example."
   ]
  },
  {
   "cell_type": "code",
   "execution_count": 21,
   "metadata": {
    "collapsed": true
   },
   "outputs": [],
   "source": [
    "# first install some libraries\n",
    "#!sudo pip uninstall -y html5lib\n",
    "#!sudo pip install --upgrade html5lib==1.0b8\n",
    "#!sudo pip install --upgrade beautifulsoup4\n",
    "#!sudo pip install --upgrade chardet\n",
    "#!sudo pip install --upgrade lxml"
   ]
  },
  {
   "cell_type": "code",
   "execution_count": 22,
   "metadata": {
    "collapsed": true
   },
   "outputs": [],
   "source": [
    "# an example text modeling feature pipeline\n",
    "\n",
    "import chardet\n",
    "from bs4 import BeautifulSoup\n",
    "import functools\n",
    "import re\n",
    "\n",
    "import warnings\n",
    "warnings.filterwarnings(\"ignore\", category=UserWarning, module='bs4')\n",
    "\n",
    "def decode(content):\n",
    "    # in prod settings, character encoding issues can be a huge pain!\n",
    "    charset = chardet.detect(content)['encoding']\n",
    "    return content.decode(encoding=charset, errors='ignore')\n",
    "\n",
    "def no_html(content):\n",
    "    return BeautifulSoup(content, \"lxml\").get_text()\n",
    "\n",
    "def tolower(content):\n",
    "    return content.lower()\n",
    "\n",
    "def cleaned_up(content):\n",
    "    def apply_regex(x, regex_replacement):\n",
    "        return re.sub(regex_replacement[0], regex_replacement[1], x)\n",
    "      \n",
    "    regexes = [\n",
    "        (r\"\\|\", \" \"),\n",
    "        (r\"\\r\\n?|\\n\", \" \"),\n",
    "        (r\"[^\\x00-\\x7F]+\", \" \"),\n",
    "        (r\"\\s+\", \" \"),\n",
    "        (r\"\\w{,20}[a-zA-Z]{1,20}[0-9]{1,20}\", \"_wn_\"),\n",
    "        (r\"http\\://\\S+\", \"_url_\"),\n",
    "        (r\"\\d+/\\d+/\\d+\", \"_d2_\"),\n",
    "        (r\"\\d+/\\d+\", \"_d_\"),\n",
    "        (r\"\\d+\\-\\d+-\\d+\", \"_pn_\"),\n",
    "        (r\":\", \" \")\n",
    "    ]\n",
    "    \n",
    "    return functools.reduce(apply_regex, regexes, content)\n",
    "\n",
    "def filter_long(content):\n",
    "    return \" \".join([y for y in content.split(\" \") if len(y) <= 20])\n",
    "\n",
    "def clean_all(X):\n",
    "    return X\\\n",
    "        .apply(decode)\\\n",
    "        .apply(no_html)\\\n",
    "        .apply(tolower)\\\n",
    "        .apply(cleaned_up)\\\n",
    "        .apply(filter_long)"
   ]
  },
  {
   "cell_type": "code",
   "execution_count": 23,
   "metadata": {},
   "outputs": [
    {
     "name": "stdout",
     "output_type": "stream",
     "text": [
      "Area under the ROC curve on test data = 1.000\n"
     ]
    }
   ],
   "source": [
    "tfidf_vectorizer_clean = TfidfVectorizer(min_df=5,\n",
    "                                         decode_error=\"ignore\",\n",
    "                                         ngram_range=(1,2))\n",
    "X_train_clean = clean_all(X_train)\n",
    "X_test_clean = clean_all(X_test)\n",
    "\n",
    "tfidf_vectorizer_clean.fit(X_train_clean)\n",
    "\n",
    "# Transform to a counter\n",
    "X_train_tfidf_clean = tfidf_vectorizer.transform(X_train_clean)\n",
    "X_test_tfidf_clean = tfidf_vectorizer.transform(X_test_clean)\n",
    "\n",
    "\n",
    "clean_tfidf_model = LogisticRegression()\n",
    "clean_tfidf_model.fit(X_train_tfidf_clean, y_train)\n",
    "\n",
    "clean_tfidf_predictions = tfidf_model.predict_proba(X_test_tfidf_clean)[:,1]\n",
    "clean_tfidf_auc = roc_auc_score(y_test, tfidf_predictions)\n",
    "\n",
    "print (\"Area under the ROC curve on test data = %.3f\" % clean_tfidf_auc)"
   ]
  },
  {
   "cell_type": "markdown",
   "metadata": {},
   "source": [
    "`features_pipeline_2` has capability to build these kinds of features auto-magically!"
   ]
  },
  {
   "cell_type": "code",
   "execution_count": 26,
   "metadata": {},
   "outputs": [
    {
     "name": "stdout",
     "output_type": "stream",
     "text": [
      "Area under the ROC curve on test data = 0.999\n"
     ]
    }
   ],
   "source": [
    "from ds_utils.features_pipeline_2 import pipeline_from_config\n",
    "\n",
    "# this expects a pd dataframe so re-split\n",
    "X_train_df, X_test_df, y_train_df, y_test_df = train_test_split(spam_df, labels, train_size=0.75, test_size=0.25)\n",
    "\n",
    "config = [\n",
    "    {\n",
    "        \"field\"        : \"text\",\n",
    "        \"transformers\" : [{\"name\":\"tfidf\"}]\n",
    "    }\n",
    "]\n",
    "\n",
    "pipeline = pipeline_from_config(config)\n",
    "X_train_df_feats = pipeline.fit_transform(X_train_df)\n",
    "X_test_df_feats = pipeline.transform(X_test_df)\n",
    "\n",
    "\n",
    "clean_tfidf_model = LogisticRegression()\n",
    "clean_tfidf_model.fit(X_train_df_feats, y_train_df)\n",
    "\n",
    "df_tfidf_predictions = clean_tfidf_model.predict_proba(X_test_df_feats)[:,1]\n",
    "df_tfidf_auc = roc_auc_score(y_test_df, df_tfidf_predictions)\n",
    "\n",
    "print (\"Area under the ROC curve on test data = %.3f\" % df_tfidf_auc)"
   ]
  },
  {
   "cell_type": "code",
   "execution_count": null,
   "metadata": {
    "collapsed": true
   },
   "outputs": [],
   "source": []
  }
 ],
 "metadata": {
  "kernelspec": {
   "display_name": "Python [default]",
   "language": "python",
   "name": "python2"
  },
  "language_info": {
   "codemirror_mode": {
    "name": "ipython",
    "version": 2
   },
   "file_extension": ".py",
   "mimetype": "text/x-python",
   "name": "python",
   "nbconvert_exporter": "python",
   "pygments_lexer": "ipython2",
   "version": "2.7.13"
  }
 },
 "nbformat": 4,
 "nbformat_minor": 1
}
