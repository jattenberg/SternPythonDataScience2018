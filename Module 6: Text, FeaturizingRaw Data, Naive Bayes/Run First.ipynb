{
 "cells": [
  {
   "cell_type": "code",
   "execution_count": null,
   "metadata": {
    "collapsed": true
   },
   "outputs": [],
   "source": [
    "!sudo pip uninstall -y html5lib\n",
    "!sudo pip install --upgrade html5lib==1.0b8\n",
    "!sudo pip install --upgrade beautifulsoup4\n",
    "!sudo pip install --upgrade chardet\n",
    "!sudo pip install --upgrade lxml"
   ]
  }
 ],
 "metadata": {
  "kernelspec": {
   "display_name": "Python [default]",
   "language": "python",
   "name": "python2"
  },
  "language_info": {
   "codemirror_mode": {
    "name": "ipython",
    "version": 2
   },
   "file_extension": ".py",
   "mimetype": "text/x-python",
   "name": "python",
   "nbconvert_exporter": "python",
   "pygments_lexer": "ipython2",
   "version": "2.7.13"
  }
 },
 "nbformat": 4,
 "nbformat_minor": 2
}
