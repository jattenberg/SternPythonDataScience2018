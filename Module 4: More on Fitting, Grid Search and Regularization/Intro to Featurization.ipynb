{
 "cells": [
  {
   "cell_type": "markdown",
   "metadata": {},
   "source": [
    "# Feature Creation for Machine Learning\n",
    "\n",
    "\n",
    "Spring 2018 - Profs. Foster Provost and Josh Attenberg\n",
    "\n",
    "Teaching Assistant: Apostolos Filippas\n",
    "\n",
    "\n",
    "***"
   ]
  },
  {
   "cell_type": "markdown",
   "metadata": {},
   "source": [
    "Import all of the packages we will need."
   ]
  },
  {
   "cell_type": "code",
   "execution_count": 1,
   "metadata": {},
   "outputs": [],
   "source": [
    "# Import the libraries we will be using\n",
    "import numpy as np\n",
    "import pandas as pd\n",
    "import matplotlib.pyplot as plt\n",
    "import seaborn as sns\n",
    "\n",
    "%matplotlib inline\n",
    "sns.set(style='ticks', palette='Set2')\n",
    "plt.rcParams['figure.figsize'] = 10, 8\n",
    "\n",
    "import sys\n",
    "sys.path.append(\"..\")\n",
    "from ds_utils.features_pipeline import pipeline_from_config"
   ]
  },
  {
   "cell_type": "markdown",
   "metadata": {},
   "source": [
    "### Data\n",
    "We're going to use a mail response data set from a real direct marketing campaign. Each record represents an individual who was targeted with a direct marketing offer.  The offer was a solicitation to make a charitable donation. \n",
    "\n",
    "The columns (features) are:\n",
    "\n",
    "```\n",
    "income       household income\n",
    "Firstdate    data assoc. with the first gift by this individual\n",
    "Lastdate     data associated with the most recent gift \n",
    "Amount       average amount by this individual over all periods (incl. zeros)\n",
    "rfaf2        frequency code\n",
    "rfaa2        donation amount code\n",
    "pepstrfl     flag indicating a star donator\n",
    "glast        amount of last gift\n",
    "gavr         amount of average gift\n",
    "```\n",
    "\n",
    "The target variables is `class` and is equal to one if they gave in this campaign and zero otherwise."
   ]
  },
  {
   "cell_type": "code",
   "execution_count": 2,
   "metadata": {},
   "outputs": [
    {
     "data": {
      "text/html": [
       "<div>\n",
       "<style scoped>\n",
       "    .dataframe tbody tr th:only-of-type {\n",
       "        vertical-align: middle;\n",
       "    }\n",
       "\n",
       "    .dataframe tbody tr th {\n",
       "        vertical-align: top;\n",
       "    }\n",
       "\n",
       "    .dataframe thead th {\n",
       "        text-align: right;\n",
       "    }\n",
       "</style>\n",
       "<table border=\"1\" class=\"dataframe\">\n",
       "  <thead>\n",
       "    <tr style=\"text-align: right;\">\n",
       "      <th></th>\n",
       "      <th>Income</th>\n",
       "      <th>Firstdate</th>\n",
       "      <th>Lastdate</th>\n",
       "      <th>Amount</th>\n",
       "      <th>rfaf2</th>\n",
       "      <th>rfaa2</th>\n",
       "      <th>pepstrfl</th>\n",
       "      <th>glast</th>\n",
       "      <th>gavr</th>\n",
       "      <th>class</th>\n",
       "    </tr>\n",
       "  </thead>\n",
       "  <tbody>\n",
       "    <tr>\n",
       "      <th>0</th>\n",
       "      <td>3</td>\n",
       "      <td>9409</td>\n",
       "      <td>9509</td>\n",
       "      <td>0.06</td>\n",
       "      <td>1</td>\n",
       "      <td>G</td>\n",
       "      <td>0</td>\n",
       "      <td>50</td>\n",
       "      <td>30.00</td>\n",
       "      <td>0</td>\n",
       "    </tr>\n",
       "    <tr>\n",
       "      <th>1</th>\n",
       "      <td>2</td>\n",
       "      <td>9201</td>\n",
       "      <td>9602</td>\n",
       "      <td>0.16</td>\n",
       "      <td>4</td>\n",
       "      <td>G</td>\n",
       "      <td>X</td>\n",
       "      <td>20</td>\n",
       "      <td>20.55</td>\n",
       "      <td>1</td>\n",
       "    </tr>\n",
       "    <tr>\n",
       "      <th>2</th>\n",
       "      <td>0</td>\n",
       "      <td>9510</td>\n",
       "      <td>9603</td>\n",
       "      <td>0.20</td>\n",
       "      <td>4</td>\n",
       "      <td>E</td>\n",
       "      <td>0</td>\n",
       "      <td>5</td>\n",
       "      <td>8.75</td>\n",
       "      <td>0</td>\n",
       "    </tr>\n",
       "    <tr>\n",
       "      <th>3</th>\n",
       "      <td>6</td>\n",
       "      <td>9409</td>\n",
       "      <td>9603</td>\n",
       "      <td>0.13</td>\n",
       "      <td>2</td>\n",
       "      <td>G</td>\n",
       "      <td>0</td>\n",
       "      <td>25</td>\n",
       "      <td>22.50</td>\n",
       "      <td>0</td>\n",
       "    </tr>\n",
       "    <tr>\n",
       "      <th>4</th>\n",
       "      <td>0</td>\n",
       "      <td>9310</td>\n",
       "      <td>9511</td>\n",
       "      <td>0.10</td>\n",
       "      <td>1</td>\n",
       "      <td>G</td>\n",
       "      <td>0</td>\n",
       "      <td>25</td>\n",
       "      <td>12.50</td>\n",
       "      <td>0</td>\n",
       "    </tr>\n",
       "  </tbody>\n",
       "</table>\n",
       "</div>"
      ],
      "text/plain": [
       "   Income  Firstdate  Lastdate  Amount  rfaf2 rfaa2 pepstrfl  glast   gavr  \\\n",
       "0       3       9409      9509    0.06      1     G        0     50  30.00   \n",
       "1       2       9201      9602    0.16      4     G        X     20  20.55   \n",
       "2       0       9510      9603    0.20      4     E        0      5   8.75   \n",
       "3       6       9409      9603    0.13      2     G        0     25  22.50   \n",
       "4       0       9310      9511    0.10      1     G        0     25  12.50   \n",
       "\n",
       "   class  \n",
       "0      0  \n",
       "1      1  \n",
       "2      0  \n",
       "3      0  \n",
       "4      0  "
      ]
     },
     "execution_count": 2,
     "metadata": {},
     "output_type": "execute_result"
    }
   ],
   "source": [
    "# Load the data\n",
    "mailing_url = \"https://gist.githubusercontent.com/anonymous/5275f1f59be561ec9734c90d80d176b9/raw/f92227f9b8cdca188c1e89094804b8e46f14f30b/-\"\n",
    "mailing_df = pd.read_csv(mailing_url)\n",
    "# Let's take a look at the data\n",
    "mailing_df.head(5)"
   ]
  },
  {
   "cell_type": "markdown",
   "metadata": {},
   "source": [
    "Up to now, throughout this course, we have strictly considered modeling problems where all columns are numerical, that is, real numbers. This is convenient, as the modeling libraries provided by sklearn require numerical data. More precicely, sklearn requires input in the form of numpy arrays of numbers, or some other data type that behaves in an identical fashion, such as numerical columns from a pandas data frame. \n",
    "\n",
    "From the short snippet of data above, we notice that, in addition to some numerical columns, there are several additional data types. The column `rfaa2` is categorical. `Income` and `rfaf2` are also categorical with the categories just represented as numbers. `pepstrfl` is binary, but rather than the 0's and 1's we're accostomed to, we have \"X\" and 0. \n",
    "\n",
    "In this lesson, we discuss **Featurization**, the transformation of raw input data from the world into a numerical format that is hopefully informative to a machine learning model. This encompases converting binary and categorical data to a numerical encoding, but also ensuring a numerical encoding is maximally informative to a machine learning model. "
   ]
  },
  {
   "cell_type": "markdown",
   "metadata": {},
   "source": [
    "## Numerical Data\n",
    "\n",
    "Even when presented with numerical data, one may wish to \"massage\" it so that it is a more useful format for a machine learning system. Some models simply prefer all inputs be on a common range or of a similar distribuiton. Some models prefer binary data or data constrained to a specific range. Let's talk about some common numerical transforms. \n",
    "\n",
    "- _Standardization_ : we rescale our data acting as if each features is normally distributed (Gaussian with zero mean and unit variance)\n",
    "- _Scaling to a range_ : we rescale our data based on the minimum and maximum value of each feature\n",
    "- _Quantilization_ : we create n new feature \"buckets\", letting each represent a quantile of a collection of numerical values. Each individual value is represented by a 1 in the feature corresponding to that value's quantile, and 0's in all other feature buckets. \n",
    "\n",
    "Let's look at how we can perform some of these transforms on numerical data. "
   ]
  },
  {
   "cell_type": "code",
   "execution_count": 3,
   "metadata": {},
   "outputs": [
    {
     "data": {
      "text/plain": [
       "array([[ 1.64253552],\n",
       "       [ 0.71044279],\n",
       "       [-0.4534402 ],\n",
       "       [ 0.90277939],\n",
       "       [-0.08356213]])"
      ]
     },
     "execution_count": 3,
     "metadata": {},
     "output_type": "execute_result"
    }
   ],
   "source": [
    "standardization_config = [\n",
    "    {\n",
    "        \"field\": \"gavr\",\n",
    "        \"transformers\": [\n",
    "            {\"name\": \"standard_numeric\"}\n",
    "        ]\n",
    "    }\n",
    "]\n",
    "\n",
    "pipeline = pipeline_from_config(standardization_config)\n",
    "data = pipeline.fit_transform(mailing_df)\n",
    "data[:5]"
   ]
  },
  {
   "cell_type": "markdown",
   "metadata": {},
   "source": [
    "Compared with before:"
   ]
  },
  {
   "cell_type": "code",
   "execution_count": 4,
   "metadata": {},
   "outputs": [
    {
     "data": {
      "text/plain": [
       "0    30.00\n",
       "1    20.55\n",
       "2     8.75\n",
       "3    22.50\n",
       "4    12.50\n",
       "Name: gavr, dtype: float64"
      ]
     },
     "execution_count": 4,
     "metadata": {},
     "output_type": "execute_result"
    }
   ],
   "source": [
    "mailing_df[\"gavr\"].head(5)"
   ]
  },
  {
   "cell_type": "code",
   "execution_count": 5,
   "metadata": {},
   "outputs": [
    {
     "data": {
      "text/plain": [
       "array([[0.02875681],\n",
       "       [0.0192947 ],\n",
       "       [0.00747957],\n",
       "       [0.0212472 ],\n",
       "       [0.01123438]])"
      ]
     },
     "execution_count": 5,
     "metadata": {},
     "output_type": "execute_result"
    }
   ],
   "source": [
    "range_config = [\n",
    "    {\n",
    "        \"field\": \"gavr\",\n",
    "        \"transformers\": [\n",
    "            {\"name\": \"range_numeric\"}\n",
    "        ]\n",
    "    }\n",
    "]\n",
    "\n",
    "pipeline = pipeline_from_config(range_config)\n",
    "data = pipeline.fit_transform(mailing_df)\n",
    "data[:5]"
   ]
  },
  {
   "cell_type": "code",
   "execution_count": 6,
   "metadata": {},
   "outputs": [
    {
     "data": {
      "text/plain": [
       "array([[0, 0, 0, 0, 0, 0, 0, 0, 0, 0, 1],\n",
       "       [0, 0, 0, 0, 0, 0, 0, 0, 0, 1, 0],\n",
       "       [0, 0, 0, 1, 0, 0, 0, 0, 0, 0, 0],\n",
       "       [0, 0, 0, 0, 0, 0, 0, 0, 0, 1, 0],\n",
       "       [0, 0, 0, 0, 0, 0, 1, 0, 0, 0, 0]])"
      ]
     },
     "execution_count": 6,
     "metadata": {},
     "output_type": "execute_result"
    }
   ],
   "source": [
    "quantile_config = [\n",
    "    {\n",
    "        \"field\": \"gavr\",\n",
    "        \"transformers\": [\n",
    "            {\n",
    "                \"name\": \"quantile_numeric\",\n",
    "                \"config\": {\"n_quantiles\": 10}\n",
    "            }\n",
    "        ]\n",
    "    }\n",
    "]\n",
    "\n",
    "pipeline = pipeline_from_config(quantile_config)\n",
    "data = pipeline.fit_transform(mailing_df)\n",
    "data[:5]"
   ]
  },
  {
   "cell_type": "code",
   "execution_count": 7,
   "metadata": {},
   "outputs": [
    {
     "data": {
      "text/plain": [
       "array([[ 1.64253552,  0.        ,  0.        ,  0.        ,  0.        ,\n",
       "         0.        ,  0.        ,  0.        ,  0.        ,  0.        ,\n",
       "         0.        ,  1.        ],\n",
       "       [ 0.71044279,  0.        ,  0.        ,  0.        ,  0.        ,\n",
       "         0.        ,  0.        ,  0.        ,  0.        ,  0.        ,\n",
       "         1.        ,  0.        ],\n",
       "       [-0.4534402 ,  0.        ,  0.        ,  0.        ,  1.        ,\n",
       "         0.        ,  0.        ,  0.        ,  0.        ,  0.        ,\n",
       "         0.        ,  0.        ],\n",
       "       [ 0.90277939,  0.        ,  0.        ,  0.        ,  0.        ,\n",
       "         0.        ,  0.        ,  0.        ,  0.        ,  0.        ,\n",
       "         1.        ,  0.        ],\n",
       "       [-0.08356213,  0.        ,  0.        ,  0.        ,  0.        ,\n",
       "         0.        ,  0.        ,  1.        ,  0.        ,  0.        ,\n",
       "         0.        ,  0.        ]])"
      ]
     },
     "execution_count": 7,
     "metadata": {},
     "output_type": "execute_result"
    }
   ],
   "source": [
    "# performing multiple feature transforms on a column\n",
    "\n",
    "multi_config = [\n",
    "    {\n",
    "        \"field\": \"gavr\",\n",
    "        \"transformers\": [\n",
    "            {\"name\": \"standard_numeric\"},\n",
    "            {\n",
    "                \"name\": \"quantile_numeric\",\n",
    "                \"config\": {\"n_quantiles\": 10}\n",
    "            }\n",
    "        ]\n",
    "    }\n",
    "]\n",
    "\n",
    "pipeline = pipeline_from_config(multi_config)\n",
    "data = pipeline.fit_transform(mailing_df)\n",
    "data[:5]"
   ]
  },
  {
   "cell_type": "code",
   "execution_count": 8,
   "metadata": {},
   "outputs": [
    {
     "data": {
      "text/plain": [
       "array([[ 1.64253552,  1.14898002],\n",
       "       [ 0.71044279,  0.09189676],\n",
       "       [-0.4534402 , -0.43664487],\n",
       "       [ 0.90277939,  0.2680773 ],\n",
       "       [-0.08356213,  0.2680773 ]])"
      ]
     },
     "execution_count": 8,
     "metadata": {},
     "output_type": "execute_result"
    }
   ],
   "source": [
    "# transforming multiple features\n",
    "multi_feat_config = [\n",
    "    {\n",
    "        \"field\": \"gavr\",\n",
    "        \"transformers\": [\n",
    "            {\"name\": \"standard_numeric\"}\n",
    "        ]\n",
    "    },\n",
    "    {\n",
    "        \"field\": \"glast\",\n",
    "        \"transformers\": [\n",
    "            {\"name\": \"standard_numeric\"}\n",
    "        ]\n",
    "    }\n",
    "]\n",
    "\n",
    "pipeline = pipeline_from_config(multi_feat_config)\n",
    "data = pipeline.fit_transform(mailing_df)\n",
    "data[:5]"
   ]
  },
  {
   "cell_type": "markdown",
   "metadata": {},
   "source": [
    "## Categorical Data\n",
    "\n",
    "\n",
    "From the description above, and the head of the data, we see that two of the fields are **categorical** (text) instead of the typical **numerical** fields we have been looking at until this point. Today, one of the models we will be using is a logistic regression. From the previous classes, we have seen that logistic regression requires *all* fields to be numerical. To do this, we are going to create \"dummy\" variables for all the fields that are categorical.\n",
    "\n",
    "#### Dummyize\n",
    "A dummy variable is a binary variable corresponding to one value of a categorical variable.\n",
    "The typical way to create dummies for a field is to create new variables for each possible category of the field. For example consider a field called color that can have the possible values \"red\", \"blue\", and \"green\". To dummyize color, we would create three new features: \"color_red\", \"color_blue\", and \"color_green\". These fields would take the value 1 or 0 depending on the actual value of color. Each record can only have one of these fields set to 1!\n",
    "\n",
    "Notes:\n",
    "\n",
    "- You can also leave out one of the possible categories. For example, in the above example that had three possible values, you can create only two dummies. This, because when \"color_red\"=0 and \"color_blue\"=0 it means that \"color_green=1\".  Often all three dummies are created anyway; it is slightly redundant, but makes the models more comprehensible.\n",
    "\n",
    "- There also are cases where non-numeric variables can take on multiple values (for example, `colors = {red, white, blue}`).  In these cases again often binary variables are created for each value, the obvious difference being that now more than one can be non-zero (and you would need to represent all the values).\n",
    " \n",
    "- The dummyizer code works for binary inputs as well, in this case, it just creates one output variable which is either 1 or 0. It does the right thing."
   ]
  },
  {
   "cell_type": "code",
   "execution_count": 12,
   "metadata": {},
   "outputs": [
    {
     "data": {
      "text/plain": [
       "array([[0, 0, 0, 1, 0],\n",
       "       [0, 0, 0, 1, 1],\n",
       "       [0, 1, 0, 0, 0],\n",
       "       [0, 0, 0, 1, 0],\n",
       "       [0, 0, 0, 1, 0]])"
      ]
     },
     "execution_count": 12,
     "metadata": {},
     "output_type": "execute_result"
    }
   ],
   "source": [
    "dummyize_config = [\n",
    "    {\n",
    "        \"field\": \"rfaa2\",\n",
    "        \"transformers\": [\n",
    "            {\"name\": \"dummyizer\"}\n",
    "        ]\n",
    "    },\n",
    "    {\n",
    "        \"field\": \"pepstrfl\",\n",
    "        \"transformers\": [\n",
    "            {\"name\": \"dummyizer\"}\n",
    "        ]\n",
    "    }\n",
    "    \n",
    "]\n",
    "\n",
    "pipeline = pipeline_from_config(dummyize_config)\n",
    "data = pipeline.fit_transform(mailing_df)\n",
    "data[:5]"
   ]
  },
  {
   "cell_type": "markdown",
   "metadata": {},
   "source": [
    "Let's try to transform out data and build a model!"
   ]
  },
  {
   "cell_type": "code",
   "execution_count": 13,
   "metadata": {},
   "outputs": [
    {
     "data": {
      "text/html": [
       "<div>\n",
       "<style scoped>\n",
       "    .dataframe tbody tr th:only-of-type {\n",
       "        vertical-align: middle;\n",
       "    }\n",
       "\n",
       "    .dataframe tbody tr th {\n",
       "        vertical-align: top;\n",
       "    }\n",
       "\n",
       "    .dataframe thead th {\n",
       "        text-align: right;\n",
       "    }\n",
       "</style>\n",
       "<table border=\"1\" class=\"dataframe\">\n",
       "  <thead>\n",
       "    <tr style=\"text-align: right;\">\n",
       "      <th></th>\n",
       "      <th>Income</th>\n",
       "      <th>Firstdate</th>\n",
       "      <th>Lastdate</th>\n",
       "      <th>Amount</th>\n",
       "      <th>rfaf2</th>\n",
       "      <th>rfaa2</th>\n",
       "      <th>pepstrfl</th>\n",
       "      <th>glast</th>\n",
       "      <th>gavr</th>\n",
       "      <th>class</th>\n",
       "    </tr>\n",
       "  </thead>\n",
       "  <tbody>\n",
       "    <tr>\n",
       "      <th>0</th>\n",
       "      <td>3</td>\n",
       "      <td>9409</td>\n",
       "      <td>9509</td>\n",
       "      <td>0.06</td>\n",
       "      <td>1</td>\n",
       "      <td>G</td>\n",
       "      <td>0</td>\n",
       "      <td>50</td>\n",
       "      <td>30.00</td>\n",
       "      <td>0</td>\n",
       "    </tr>\n",
       "    <tr>\n",
       "      <th>1</th>\n",
       "      <td>2</td>\n",
       "      <td>9201</td>\n",
       "      <td>9602</td>\n",
       "      <td>0.16</td>\n",
       "      <td>4</td>\n",
       "      <td>G</td>\n",
       "      <td>X</td>\n",
       "      <td>20</td>\n",
       "      <td>20.55</td>\n",
       "      <td>1</td>\n",
       "    </tr>\n",
       "    <tr>\n",
       "      <th>2</th>\n",
       "      <td>0</td>\n",
       "      <td>9510</td>\n",
       "      <td>9603</td>\n",
       "      <td>0.20</td>\n",
       "      <td>4</td>\n",
       "      <td>E</td>\n",
       "      <td>0</td>\n",
       "      <td>5</td>\n",
       "      <td>8.75</td>\n",
       "      <td>0</td>\n",
       "    </tr>\n",
       "    <tr>\n",
       "      <th>3</th>\n",
       "      <td>6</td>\n",
       "      <td>9409</td>\n",
       "      <td>9603</td>\n",
       "      <td>0.13</td>\n",
       "      <td>2</td>\n",
       "      <td>G</td>\n",
       "      <td>0</td>\n",
       "      <td>25</td>\n",
       "      <td>22.50</td>\n",
       "      <td>0</td>\n",
       "    </tr>\n",
       "    <tr>\n",
       "      <th>4</th>\n",
       "      <td>0</td>\n",
       "      <td>9310</td>\n",
       "      <td>9511</td>\n",
       "      <td>0.10</td>\n",
       "      <td>1</td>\n",
       "      <td>G</td>\n",
       "      <td>0</td>\n",
       "      <td>25</td>\n",
       "      <td>12.50</td>\n",
       "      <td>0</td>\n",
       "    </tr>\n",
       "  </tbody>\n",
       "</table>\n",
       "</div>"
      ],
      "text/plain": [
       "   Income  Firstdate  Lastdate  Amount  rfaf2 rfaa2 pepstrfl  glast   gavr  \\\n",
       "0       3       9409      9509    0.06      1     G        0     50  30.00   \n",
       "1       2       9201      9602    0.16      4     G        X     20  20.55   \n",
       "2       0       9510      9603    0.20      4     E        0      5   8.75   \n",
       "3       6       9409      9603    0.13      2     G        0     25  22.50   \n",
       "4       0       9310      9511    0.10      1     G        0     25  12.50   \n",
       "\n",
       "   class  \n",
       "0      0  \n",
       "1      1  \n",
       "2      0  \n",
       "3      0  \n",
       "4      0  "
      ]
     },
     "execution_count": 13,
     "metadata": {},
     "output_type": "execute_result"
    }
   ],
   "source": [
    "# just to remind ourselves:\n",
    "mailing_df.head(5)"
   ]
  },
  {
   "cell_type": "code",
   "execution_count": 17,
   "metadata": {},
   "outputs": [
    {
     "name": "stdout",
     "output_type": "stream",
     "text": [
      "0.9493218759615486\n",
      "1.880575322024949e-05\n"
     ]
    }
   ],
   "source": [
    "from sklearn.model_selection import cross_val_score\n",
    "from sklearn.linear_model import LogisticRegression\n",
    "\n",
    "config = [\n",
    "    {\n",
    "        \"field\": \"Income\",\n",
    "        \"transformers\": [\n",
    "            {\"name\": \"dummyizer\"}\n",
    "        ]\n",
    "    },\n",
    "    {\n",
    "        \"field\": \"Firstdate\",\n",
    "        \"transformers\": [\n",
    "            {\"name\": \"range_numeric\"}\n",
    "        ]\n",
    "    },\n",
    "    {\n",
    "        \"field\": \"Lastdate\",\n",
    "        \"transformers\": [\n",
    "            {\"name\": \"range_numeric\"}\n",
    "        ]\n",
    "    },\n",
    "    {\n",
    "        \"field\": \"Amount\",\n",
    "        \"transformers\": [\n",
    "            {\"name\": \"standard_numeric\"},\n",
    "            {\n",
    "                \"name\": \"quantile_numeric\",\n",
    "                \"config\": {\"n_quantiles\": 10}\n",
    "            }\n",
    "        ]\n",
    "    },\n",
    "    {\n",
    "        \"field\": \"rfaa2\",\n",
    "        \"transformers\": [\n",
    "            {\"name\": \"dummyizer\"}\n",
    "        ]\n",
    "    },\n",
    "    {\n",
    "        \"field\": \"rfaf2\",\n",
    "        \"transformers\": [\n",
    "            {\"name\": \"dummyizer\"}\n",
    "        ]\n",
    "    },\n",
    "    {\n",
    "        \"field\": \"pepstrfl\",\n",
    "        \"transformers\": [\n",
    "            {\"name\": \"dummyizer\"}\n",
    "        ]\n",
    "    },\n",
    "    {\n",
    "        \"field\": \"glast\",\n",
    "        \"transformers\": [\n",
    "            {\"name\": \"standard_numeric\"},\n",
    "            {\n",
    "                \"name\": \"quantile_numeric\",\n",
    "                \"config\": {\"n_quantiles\": 10}\n",
    "            }\n",
    "        ]\n",
    "    },\n",
    "    {\n",
    "        \"field\": \"gavr\",\n",
    "        \"transformers\": [\n",
    "            {\"name\": \"standard_numeric\"},\n",
    "            {\n",
    "                \"name\": \"quantile_numeric\",\n",
    "                \"config\": {\"n_quantiles\": 10}\n",
    "            }\n",
    "        ]\n",
    "    }\n",
    "]\n",
    "\n",
    "pipeline = pipeline_from_config(config)\n",
    "X = pipeline.fit_transform(mailing_df)\n",
    "\n",
    "scores = cross_val_score(LogisticRegression(), X, mailing_df[\"class\"], scoring=\"accuracy\")\n",
    "print (scores.mean())\n",
    "print (scores.std())"
   ]
  },
  {
   "cell_type": "code",
   "execution_count": null,
   "metadata": {
    "collapsed": true
   },
   "outputs": [],
   "source": []
  }
 ],
 "metadata": {
  "kernelspec": {
   "display_name": "Python [conda root]",
   "language": "python",
   "name": "conda-root-py"
  },
  "language_info": {
   "codemirror_mode": {
    "name": "ipython",
    "version": 2
   },
   "file_extension": ".py",
   "mimetype": "text/x-python",
   "name": "python",
   "nbconvert_exporter": "python",
   "pygments_lexer": "ipython2",
   "version": "2.7.13"
  }
 },
 "nbformat": 4,
 "nbformat_minor": 1
}
